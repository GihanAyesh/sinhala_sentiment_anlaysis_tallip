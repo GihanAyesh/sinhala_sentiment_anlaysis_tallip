{
  "nbformat": 4,
  "nbformat_minor": 0,
  "metadata": {
    "colab": {
      "name": "Copy of second cnn_rnn_multiclass.ipynb",
      "provenance": [],
      "collapsed_sections": [
        "xXiAlHRZ7X_p",
        "Zk1Up-Co0r3t",
        "hwtwg7MaUg_7",
        "IHqkf0XG8dqL",
        "sPm_9b6Y8EPi",
        "B6CXqtIDR4jS",
        "H-RSSqI7BDqE",
        "KMtXKRpRYBx2",
        "BtZBU5XNZaMi",
        "LR7WojLAszo7"
      ]
    },
    "environment": {
      "name": "tf2-2-2-gpu.2-2.m50",
      "type": "gcloud",
      "uri": "gcr.io/deeplearning-platform-release/tf2-2-2-gpu.2-2:m50"
    },
    "kernelspec": {
      "display_name": "Python 3",
      "language": "python",
      "name": "python3"
    },
    "language_info": {
      "codemirror_mode": {
        "name": "ipython",
        "version": 3
      },
      "file_extension": ".py",
      "mimetype": "text/x-python",
      "name": "python",
      "nbconvert_exporter": "python",
      "pygments_lexer": "ipython3",
      "version": "3.7.6"
    }
  },
  "cells": [
    {
      "cell_type": "markdown",
      "metadata": {
        "id": "3zR8-aK009p9"
      },
      "source": [
        "# User Parameters"
      ]
    },
    {
      "cell_type": "code",
      "metadata": {
        "colab": {
          "base_uri": "https://localhost:8080/"
        },
        "id": "dbSiWEihH0zu",
        "outputId": "2e55f86c-7aaa-4a5f-db6a-c6b7c6c3bb53"
      },
      "source": [
        "Host = \"colab\" #@param [\"colab\", \"AWS\", \"GCP\"]\n",
        "\n",
        "Account = \"colab_datapirates\" #@param[\"colab_datapirates\", \"colab_lahiru_cse\", \"colab_lahiru_personal\"]\n",
        "EMBEDDING_SIZE = 300 #@param [50, 150, 200, 250, 300, 350, 400, 450, 500]\n",
        "embedding_type = \"fasttext\" #@param [\"fasttext\",\"word2vec\"]\n",
        "experiment_no = \"2\" #@param [] {allow-input: true}\n",
        "model_type = \"BiLSTM\" #@param [\"RNN\",\"GRU\", \"LSTM\", \"BiLSTM\" ] \n",
        "\n",
        "stack_modeles = \"2\" #@param [\"\",\"2\",\"3\"]\n",
        "apply_CNN = False #@param {type:\"boolean\"}\n",
        "\n",
        "model_name = model_type + \"_model\"\n",
        "if(stack_modeles == \"2\" or stack_modeles == \"3\"):\n",
        "  model_name = \"stacked_\" + model_name + \"_\" + stack_modeles\n",
        "if(apply_CNN):\n",
        "  model_name = \"CNN_\" + model_name \n",
        "\n",
        "print(model_name)"
      ],
      "execution_count": null,
      "outputs": [
        {
          "output_type": "stream",
          "text": [
            "stacked_BiLSTM_model_2\n"
          ],
          "name": "stdout"
        }
      ]
    },
    {
      "cell_type": "markdown",
      "metadata": {
        "id": "p7y2rE1vNZWc"
      },
      "source": [
        "# Folder Paths"
      ]
    },
    {
      "cell_type": "code",
      "metadata": {
        "colab": {
          "base_uri": "https://localhost:8080/"
        },
        "id": "IDq--mTz9k24",
        "outputId": "f61d7d2c-a937-4d07-84f6-277c9ca6a129"
      },
      "source": [
        "from google.colab import drive\n",
        "drive.mount('/content/drive')"
      ],
      "execution_count": null,
      "outputs": [
        {
          "output_type": "stream",
          "text": [
            "Mounted at /content/drive\n"
          ],
          "name": "stdout"
        }
      ]
    },
    {
      "cell_type": "code",
      "metadata": {
        "id": "gWPD3dgEqB5d"
      },
      "source": [
        "folder_path = '/content/drive/MyDrive/Sencat'\n",
        "\n",
        "EMBEDDING_SIZE = 300 \n",
        "embedding_type = \"fastText\"\n",
        "context = 5\n",
        "\n",
        "word_embedding_path = folder_path + \"/embedding/\"+ str(EMBEDDING_SIZE)+\"/\" + embedding_type+\"_\"+str(EMBEDDING_SIZE)+\"_\"+str(context)\n",
        "word_embedding_keydvectors_path = folder_path +\"/embedding/\"+str(EMBEDDING_SIZE)+\"/keyed_vectors/keyed.kv\"\n",
        "embedding_matrix_path = folder_path + '/embedding/'+embedding_type+'_lankadeepa_gossiplanka_'+str(EMBEDDING_SIZE)+'_'+str(context)\n",
        "\n",
        "experiment_name = folder_path + \"/CNN_RNN/\" +str(experiment_no) + \"_\"+ model_name +\"_\"+embedding_type+\"_\"+str(EMBEDDING_SIZE)+\"_\"+str(context)\n",
        "model_save_path = folder_path + \"/CNN_RNN/\"+str(experiment_no)+\"_weights_best_\"+model_name+\"_\"+embedding_type+\"_\"+str(experiment_no)+\".hdf5\""
      ],
      "execution_count": null,
      "outputs": []
    },
    {
      "cell_type": "markdown",
      "metadata": {
        "id": "0BYvE-D5QAc0"
      },
      "source": [
        "# Dependencies"
      ]
    },
    {
      "cell_type": "code",
      "metadata": {
        "colab": {
          "base_uri": "https://localhost:8080/"
        },
        "id": "Cf2gZocJff8x",
        "outputId": "c61cb6a5-2e15-4852-858e-f29a9a70ea7b"
      },
      "source": [
        "# import os, sys\n",
        "# nb_path = '/content/colabnotebooks'\n",
        "# # os.symlink('/content/drive/MyDrive/Colab Notebooks', nb_path)\n",
        "# sys.path.insert(0,nb_path)\n",
        "\n",
        "# !pip uninstall --target=$nb_path keras-nightly\n",
        "# !pip install --target=$nb_path tensorflow==1.14.0\n",
        "# !pip install --target=$nb_path q keras==2.3.1\n",
        "# !pip install --target=$nb_path 'h5py<3.0.0'\n",
        "\n",
        "!pip uninstall keras-nightly\n",
        "!pip install tensorflow==1.14.0\n",
        "!pip install q keras==2.3.1\n",
        "!pip install 'h5py<3.0.0'"
      ],
      "execution_count": null,
      "outputs": [
        {
          "output_type": "stream",
          "text": [
            "Uninstalling keras-nightly-2.5.0.dev2021032900:\n",
            "  Would remove:\n",
            "    /usr/local/lib/python3.7/dist-packages/keras/*\n",
            "    /usr/local/lib/python3.7/dist-packages/keras_nightly-2.5.0.dev2021032900.dist-info/*\n",
            "  Would not remove (might be manually added):\n",
            "    /usr/local/lib/python3.7/dist-packages/keras/applications/resnet50.py\n",
            "    /usr/local/lib/python3.7/dist-packages/keras/engine/network.py\n",
            "    /usr/local/lib/python3.7/dist-packages/keras/engine/topology.py\n",
            "    /usr/local/lib/python3.7/dist-packages/keras/initializers.py\n",
            "    /usr/local/lib/python3.7/dist-packages/keras/layers/experimental/__init__.py\n",
            "    /usr/local/lib/python3.7/dist-packages/keras/layers/experimental/preprocessing/__init__.py\n",
            "    /usr/local/lib/python3.7/dist-packages/keras/objectives.py\n",
            "    /usr/local/lib/python3.7/dist-packages/keras/optimizers/__init__.py\n",
            "    /usr/local/lib/python3.7/dist-packages/keras/optimizers/schedules/__init__.py\n",
            "    /usr/local/lib/python3.7/dist-packages/keras/utils/test_utils.py\n",
            "Proceed (y/n)? y\n",
            "  Successfully uninstalled keras-nightly-2.5.0.dev2021032900\n",
            "Collecting tensorflow==1.14.0\n",
            "\u001b[?25l  Downloading https://files.pythonhosted.org/packages/f4/28/96efba1a516cdacc2e2d6d081f699c001d414cc8ca3250e6d59ae657eb2b/tensorflow-1.14.0-cp37-cp37m-manylinux1_x86_64.whl (109.3MB)\n",
            "\u001b[K     |████████████████████████████████| 109.3MB 93kB/s \n",
            "\u001b[?25hRequirement already satisfied: astor>=0.6.0 in /usr/local/lib/python3.7/dist-packages (from tensorflow==1.14.0) (0.8.1)\n",
            "Requirement already satisfied: gast>=0.2.0 in /usr/local/lib/python3.7/dist-packages (from tensorflow==1.14.0) (0.4.0)\n",
            "Requirement already satisfied: absl-py>=0.7.0 in /usr/local/lib/python3.7/dist-packages (from tensorflow==1.14.0) (0.12.0)\n",
            "Requirement already satisfied: keras-preprocessing>=1.0.5 in /usr/local/lib/python3.7/dist-packages (from tensorflow==1.14.0) (1.1.2)\n",
            "Requirement already satisfied: wheel>=0.26 in /usr/local/lib/python3.7/dist-packages (from tensorflow==1.14.0) (0.36.2)\n",
            "Collecting tensorboard<1.15.0,>=1.14.0\n",
            "\u001b[?25l  Downloading https://files.pythonhosted.org/packages/91/2d/2ed263449a078cd9c8a9ba50ebd50123adf1f8cfbea1492f9084169b89d9/tensorboard-1.14.0-py3-none-any.whl (3.1MB)\n",
            "\u001b[K     |████████████████████████████████| 3.2MB 38.2MB/s \n",
            "\u001b[?25hRequirement already satisfied: numpy<2.0,>=1.14.5 in /usr/local/lib/python3.7/dist-packages (from tensorflow==1.14.0) (1.19.5)\n",
            "Requirement already satisfied: wrapt>=1.11.1 in /usr/local/lib/python3.7/dist-packages (from tensorflow==1.14.0) (1.12.1)\n",
            "Requirement already satisfied: protobuf>=3.6.1 in /usr/local/lib/python3.7/dist-packages (from tensorflow==1.14.0) (3.17.3)\n",
            "Collecting keras-applications>=1.0.6\n",
            "\u001b[?25l  Downloading https://files.pythonhosted.org/packages/71/e3/19762fdfc62877ae9102edf6342d71b28fbfd9dea3d2f96a882ce099b03f/Keras_Applications-1.0.8-py3-none-any.whl (50kB)\n",
            "\u001b[K     |████████████████████████████████| 51kB 7.7MB/s \n",
            "\u001b[?25hRequirement already satisfied: grpcio>=1.8.6 in /usr/local/lib/python3.7/dist-packages (from tensorflow==1.14.0) (1.34.1)\n",
            "Requirement already satisfied: google-pasta>=0.1.6 in /usr/local/lib/python3.7/dist-packages (from tensorflow==1.14.0) (0.2.0)\n",
            "Collecting tensorflow-estimator<1.15.0rc0,>=1.14.0rc0\n",
            "\u001b[?25l  Downloading https://files.pythonhosted.org/packages/3c/d5/21860a5b11caf0678fbc8319341b0ae21a07156911132e0e71bffed0510d/tensorflow_estimator-1.14.0-py2.py3-none-any.whl (488kB)\n",
            "\u001b[K     |████████████████████████████████| 491kB 32.2MB/s \n",
            "\u001b[?25hRequirement already satisfied: termcolor>=1.1.0 in /usr/local/lib/python3.7/dist-packages (from tensorflow==1.14.0) (1.1.0)\n",
            "Requirement already satisfied: six>=1.10.0 in /usr/local/lib/python3.7/dist-packages (from tensorflow==1.14.0) (1.15.0)\n",
            "Requirement already satisfied: werkzeug>=0.11.15 in /usr/local/lib/python3.7/dist-packages (from tensorboard<1.15.0,>=1.14.0->tensorflow==1.14.0) (1.0.1)\n",
            "Requirement already satisfied: setuptools>=41.0.0 in /usr/local/lib/python3.7/dist-packages (from tensorboard<1.15.0,>=1.14.0->tensorflow==1.14.0) (57.0.0)\n",
            "Requirement already satisfied: markdown>=2.6.8 in /usr/local/lib/python3.7/dist-packages (from tensorboard<1.15.0,>=1.14.0->tensorflow==1.14.0) (3.3.4)\n",
            "Requirement already satisfied: h5py in /usr/local/lib/python3.7/dist-packages (from keras-applications>=1.0.6->tensorflow==1.14.0) (3.1.0)\n",
            "Requirement already satisfied: importlib-metadata; python_version < \"3.8\" in /usr/local/lib/python3.7/dist-packages (from markdown>=2.6.8->tensorboard<1.15.0,>=1.14.0->tensorflow==1.14.0) (4.6.0)\n",
            "Requirement already satisfied: cached-property; python_version < \"3.8\" in /usr/local/lib/python3.7/dist-packages (from h5py->keras-applications>=1.0.6->tensorflow==1.14.0) (1.5.2)\n",
            "Requirement already satisfied: zipp>=0.5 in /usr/local/lib/python3.7/dist-packages (from importlib-metadata; python_version < \"3.8\"->markdown>=2.6.8->tensorboard<1.15.0,>=1.14.0->tensorflow==1.14.0) (3.4.1)\n",
            "Requirement already satisfied: typing-extensions>=3.6.4; python_version < \"3.8\" in /usr/local/lib/python3.7/dist-packages (from importlib-metadata; python_version < \"3.8\"->markdown>=2.6.8->tensorboard<1.15.0,>=1.14.0->tensorflow==1.14.0) (3.7.4.3)\n",
            "\u001b[31mERROR: kapre 0.3.5 has requirement tensorflow>=2.0.0, but you'll have tensorflow 1.14.0 which is incompatible.\u001b[0m\n",
            "Installing collected packages: tensorboard, keras-applications, tensorflow-estimator, tensorflow\n",
            "  Found existing installation: tensorboard 2.5.0\n",
            "    Uninstalling tensorboard-2.5.0:\n",
            "      Successfully uninstalled tensorboard-2.5.0\n",
            "  Found existing installation: tensorflow-estimator 2.5.0\n",
            "    Uninstalling tensorflow-estimator-2.5.0:\n",
            "      Successfully uninstalled tensorflow-estimator-2.5.0\n",
            "  Found existing installation: tensorflow 2.5.0\n",
            "    Uninstalling tensorflow-2.5.0:\n",
            "      Successfully uninstalled tensorflow-2.5.0\n",
            "Successfully installed keras-applications-1.0.8 tensorboard-1.14.0 tensorflow-1.14.0 tensorflow-estimator-1.14.0\n",
            "Collecting q\n",
            "  Downloading https://files.pythonhosted.org/packages/53/bc/51619d89e0bd855567e7652fa16d06f1ed36a85f108a7fe71f6629bf719d/q-2.6-py2.py3-none-any.whl\n",
            "Collecting keras==2.3.1\n",
            "\u001b[?25l  Downloading https://files.pythonhosted.org/packages/ad/fd/6bfe87920d7f4fd475acd28500a42482b6b84479832bdc0fe9e589a60ceb/Keras-2.3.1-py2.py3-none-any.whl (377kB)\n",
            "\u001b[K     |████████████████████████████████| 378kB 8.2MB/s \n",
            "\u001b[?25hRequirement already satisfied: pyyaml in /usr/local/lib/python3.7/dist-packages (from keras==2.3.1) (3.13)\n",
            "Requirement already satisfied: numpy>=1.9.1 in /usr/local/lib/python3.7/dist-packages (from keras==2.3.1) (1.19.5)\n",
            "Requirement already satisfied: keras-preprocessing>=1.0.5 in /usr/local/lib/python3.7/dist-packages (from keras==2.3.1) (1.1.2)\n",
            "Requirement already satisfied: scipy>=0.14 in /usr/local/lib/python3.7/dist-packages (from keras==2.3.1) (1.4.1)\n",
            "Requirement already satisfied: h5py in /usr/local/lib/python3.7/dist-packages (from keras==2.3.1) (3.1.0)\n",
            "Requirement already satisfied: keras-applications>=1.0.6 in /usr/local/lib/python3.7/dist-packages (from keras==2.3.1) (1.0.8)\n",
            "Requirement already satisfied: six>=1.9.0 in /usr/local/lib/python3.7/dist-packages (from keras==2.3.1) (1.15.0)\n",
            "Requirement already satisfied: cached-property; python_version < \"3.8\" in /usr/local/lib/python3.7/dist-packages (from h5py->keras==2.3.1) (1.5.2)\n",
            "Installing collected packages: q, keras\n",
            "  Found existing installation: Keras 2.4.3\n",
            "    Uninstalling Keras-2.4.3:\n",
            "      Successfully uninstalled Keras-2.4.3\n",
            "Successfully installed keras-2.3.1 q-2.6\n",
            "Collecting h5py<3.0.0\n",
            "\u001b[?25l  Downloading https://files.pythonhosted.org/packages/3f/c0/abde58b837e066bca19a3f7332d9d0493521d7dd6b48248451a9e3fe2214/h5py-2.10.0-cp37-cp37m-manylinux1_x86_64.whl (2.9MB)\n",
            "\u001b[K     |████████████████████████████████| 2.9MB 8.1MB/s \n",
            "\u001b[?25hRequirement already satisfied: numpy>=1.7 in /usr/local/lib/python3.7/dist-packages (from h5py<3.0.0) (1.19.5)\n",
            "Requirement already satisfied: six in /usr/local/lib/python3.7/dist-packages (from h5py<3.0.0) (1.15.0)\n",
            "Installing collected packages: h5py\n",
            "  Found existing installation: h5py 3.1.0\n",
            "    Uninstalling h5py-3.1.0:\n",
            "      Successfully uninstalled h5py-3.1.0\n",
            "Successfully installed h5py-2.10.0\n"
          ],
          "name": "stdout"
        }
      ]
    },
    {
      "cell_type": "code",
      "metadata": {
        "colab": {
          "base_uri": "https://localhost:8080/"
        },
        "id": "gZ9YDtD6qn4t",
        "outputId": "85c42b7a-6b4a-4172-c15a-b9fa10a42ba0"
      },
      "source": [
        "from __future__ import print_function\n",
        "\n",
        "import collections\n",
        "import pickle\n",
        "import re\n",
        "import random\n",
        "import sys\n",
        "import os \n",
        "import time\n",
        "\n",
        "import gensim\n",
        "from gensim.models.keyedvectors import KeyedVectors\n",
        "from gensim.models.fasttext import FastText\n",
        "from gensim.models import word2vec\n",
        "\n",
        "from sklearn.model_selection import train_test_split,cross_val_score, cross_val_predict, KFold, GridSearchCV\n",
        "from sklearn.metrics import accuracy_score, f1_score, precision_score, recall_score, classification_report, confusion_matrix,precision_recall_fscore_support\n",
        "\n",
        "import pandas as pd\n",
        "import numpy as np\n",
        "from numpy import array\n",
        "from numpy import asarray\n",
        "from numpy import zeros\n",
        "from numpy import cumsum\n",
        "\n",
        "import tensorflow as tf\n",
        "import keras\n",
        "from keras import backend as K\n",
        "from keras.models import Sequential,Model,load_model\n",
        "from keras.preprocessing.text import Tokenizer\n",
        "from keras.preprocessing.sequence import pad_sequences\n",
        "from keras.layers import Dropout, Activation, Flatten, \\\n",
        "    Embedding, Convolution1D, MaxPooling1D, AveragePooling1D, \\\n",
        "    Input, Dense, merge, Add,TimeDistributed, Bidirectional,SpatialDropout1D\n",
        "from keras.layers.recurrent import LSTM, GRU, SimpleRNN\n",
        "from keras.regularizers import l2, l1_l2\n",
        "from keras.constraints import maxnorm\n",
        "from keras import callbacks\n",
        "from keras.utils import generic_utils,plot_model\n",
        "from keras.optimizers import Adadelta\n",
        "from keras.callbacks import ModelCheckpoint,EarlyStopping\n",
        "from keras.wrappers.scikit_learn import KerasClassifier\n",
        "\n",
        "import matplotlib.image  as mpimg\n",
        "import matplotlib.pyplot as plt"
      ],
      "execution_count": null,
      "outputs": [
        {
          "output_type": "stream",
          "text": [
            "/usr/local/lib/python3.7/dist-packages/tensorflow/python/framework/dtypes.py:516: FutureWarning: Passing (type, 1) or '1type' as a synonym of type is deprecated; in a future version of numpy, it will be understood as (type, (1,)) / '(1,)type'.\n",
            "  _np_qint8 = np.dtype([(\"qint8\", np.int8, 1)])\n",
            "/usr/local/lib/python3.7/dist-packages/tensorflow/python/framework/dtypes.py:517: FutureWarning: Passing (type, 1) or '1type' as a synonym of type is deprecated; in a future version of numpy, it will be understood as (type, (1,)) / '(1,)type'.\n",
            "  _np_quint8 = np.dtype([(\"quint8\", np.uint8, 1)])\n",
            "/usr/local/lib/python3.7/dist-packages/tensorflow/python/framework/dtypes.py:518: FutureWarning: Passing (type, 1) or '1type' as a synonym of type is deprecated; in a future version of numpy, it will be understood as (type, (1,)) / '(1,)type'.\n",
            "  _np_qint16 = np.dtype([(\"qint16\", np.int16, 1)])\n",
            "/usr/local/lib/python3.7/dist-packages/tensorflow/python/framework/dtypes.py:519: FutureWarning: Passing (type, 1) or '1type' as a synonym of type is deprecated; in a future version of numpy, it will be understood as (type, (1,)) / '(1,)type'.\n",
            "  _np_quint16 = np.dtype([(\"quint16\", np.uint16, 1)])\n",
            "/usr/local/lib/python3.7/dist-packages/tensorflow/python/framework/dtypes.py:520: FutureWarning: Passing (type, 1) or '1type' as a synonym of type is deprecated; in a future version of numpy, it will be understood as (type, (1,)) / '(1,)type'.\n",
            "  _np_qint32 = np.dtype([(\"qint32\", np.int32, 1)])\n",
            "/usr/local/lib/python3.7/dist-packages/tensorflow/python/framework/dtypes.py:525: FutureWarning: Passing (type, 1) or '1type' as a synonym of type is deprecated; in a future version of numpy, it will be understood as (type, (1,)) / '(1,)type'.\n",
            "  np_resource = np.dtype([(\"resource\", np.ubyte, 1)])\n",
            "/usr/local/lib/python3.7/dist-packages/tensorboard/compat/tensorflow_stub/dtypes.py:541: FutureWarning: Passing (type, 1) or '1type' as a synonym of type is deprecated; in a future version of numpy, it will be understood as (type, (1,)) / '(1,)type'.\n",
            "  _np_qint8 = np.dtype([(\"qint8\", np.int8, 1)])\n",
            "/usr/local/lib/python3.7/dist-packages/tensorboard/compat/tensorflow_stub/dtypes.py:542: FutureWarning: Passing (type, 1) or '1type' as a synonym of type is deprecated; in a future version of numpy, it will be understood as (type, (1,)) / '(1,)type'.\n",
            "  _np_quint8 = np.dtype([(\"quint8\", np.uint8, 1)])\n",
            "/usr/local/lib/python3.7/dist-packages/tensorboard/compat/tensorflow_stub/dtypes.py:543: FutureWarning: Passing (type, 1) or '1type' as a synonym of type is deprecated; in a future version of numpy, it will be understood as (type, (1,)) / '(1,)type'.\n",
            "  _np_qint16 = np.dtype([(\"qint16\", np.int16, 1)])\n",
            "/usr/local/lib/python3.7/dist-packages/tensorboard/compat/tensorflow_stub/dtypes.py:544: FutureWarning: Passing (type, 1) or '1type' as a synonym of type is deprecated; in a future version of numpy, it will be understood as (type, (1,)) / '(1,)type'.\n",
            "  _np_quint16 = np.dtype([(\"quint16\", np.uint16, 1)])\n",
            "/usr/local/lib/python3.7/dist-packages/tensorboard/compat/tensorflow_stub/dtypes.py:545: FutureWarning: Passing (type, 1) or '1type' as a synonym of type is deprecated; in a future version of numpy, it will be understood as (type, (1,)) / '(1,)type'.\n",
            "  _np_qint32 = np.dtype([(\"qint32\", np.int32, 1)])\n",
            "/usr/local/lib/python3.7/dist-packages/tensorboard/compat/tensorflow_stub/dtypes.py:550: FutureWarning: Passing (type, 1) or '1type' as a synonym of type is deprecated; in a future version of numpy, it will be understood as (type, (1,)) / '(1,)type'.\n",
            "  np_resource = np.dtype([(\"resource\", np.ubyte, 1)])\n",
            "Using TensorFlow backend.\n"
          ],
          "name": "stderr"
        }
      ]
    },
    {
      "cell_type": "markdown",
      "metadata": {
        "id": "xXiAlHRZ7X_p"
      },
      "source": [
        "# Load Data"
      ]
    },
    {
      "cell_type": "code",
      "metadata": {
        "colab": {
          "base_uri": "https://localhost:8080/"
        },
        "id": "GqqHP9rwpbdt",
        "outputId": "6b1e54bd-ac51-47fb-e3ab-3a7c5e808e75"
      },
      "source": [
        "# lankadeepa_data_path = folder_path + '/data/lankadeepa_tagged_comments.csv'\n",
        "# gossip_lanka_data_path = folder_path + '/data/gossip_lanka_tagged_comments.csv'\n",
        "# lankadeepa_data = pd.read_csv(lankadeepa_data_path)[:9059]\n",
        "# lankadeepa_data = lankadeepa_data[((lankadeepa_data['label']==2) | (lankadeepa_data['label']==4))]\n",
        "# all_data = pd.concat([lankadeepa_data], ignore_index=True)\n",
        "# all_data.info()\n",
        "\n",
        "facebook_data_path = folder_path + '/data/labeled_corpus.csv'\n",
        "all_data = pd.read_csv(facebook_data_path)\n",
        "all_data.info()"
      ],
      "execution_count": null,
      "outputs": [
        {
          "output_type": "stream",
          "text": [
            "<class 'pandas.core.frame.DataFrame'>\n",
            "RangeIndex: 381891 entries, 0 to 381890\n",
            "Data columns (total 3 columns):\n",
            " #   Column      Non-Null Count   Dtype \n",
            "---  ------      --------------   ----- \n",
            " 0   Unnamed: 0  381891 non-null  int64 \n",
            " 1   comment     381891 non-null  object\n",
            " 2   label       381891 non-null  int64 \n",
            "dtypes: int64(2), object(1)\n",
            "memory usage: 8.7+ MB\n"
          ],
          "name": "stdout"
        }
      ]
    },
    {
      "cell_type": "markdown",
      "metadata": {
        "id": "Zk1Up-Co0r3t"
      },
      "source": [
        "## Count Tokens"
      ]
    },
    {
      "cell_type": "code",
      "metadata": {
        "id": "KS7TzP2tyhF6"
      },
      "source": [
        "# data_path = folder_path + \"corpus/new/preprocess_from_isuru/gossip_lanka_all_comments.csv\"\n",
        "# # \"corpus/new/preprocess_from_isuru/lankadeepa_comments_with_article_2.csv\"\n",
        "# data = pd.read_csv(data_path)\n",
        "\n",
        "# def count_tokens(pandas_df):\n",
        "\n",
        "#   count = 0\n",
        "#   for index, row in pandas_df.iterrows():\n",
        "#     comment_words,article_words = 0,0\n",
        "#     if (type(row['comment']) == str) :\n",
        "#       comment_words = len(row['comment'].split())\n",
        "#     # if (type(row['article']) == str) :\n",
        "#     #   article_words = len(row['article'].split())\n",
        "#     count += (comment_words + article_words)\n",
        "#   return count\n",
        "\n",
        "# tokens = count_tokens(data)\n",
        "# print(tokens)"
      ],
      "execution_count": null,
      "outputs": []
    },
    {
      "cell_type": "code",
      "metadata": {
        "id": "UTRgXvPTbzi3"
      },
      "source": [
        "# all_data_path = folder_path + \n",
        "# \"corpus/new/tagged_comments_all_with_punctuation_marks.csv\" done\n",
        "# \"corpus/new/tagged_comments_all_with_punctuation_marks_question_only.csv\"\n",
        "# corpus/new/tagged_comments_all_without_punctuation_marks.csv\n",
        "\n",
        "# all_data = pd.read_csv(all_data_path)"
      ],
      "execution_count": null,
      "outputs": []
    },
    {
      "cell_type": "markdown",
      "metadata": {
        "id": "hwtwg7MaUg_7"
      },
      "source": [
        "## Some other Preprocessing "
      ]
    },
    {
      "cell_type": "code",
      "metadata": {
        "id": "-3GJxgz7TyXP"
      },
      "source": [
        "# all_data['comment'] = all_data['comment'].str.replace('?', '')"
      ],
      "execution_count": null,
      "outputs": []
    },
    {
      "cell_type": "code",
      "metadata": {
        "id": "ZCCrt693RmRT"
      },
      "source": [
        "# all_data.to_csv(folder_path + 'corpus/new/tagged_comments_all_without_punctuation_marks.csv')"
      ],
      "execution_count": null,
      "outputs": []
    },
    {
      "cell_type": "code",
      "metadata": {
        "id": "Kxm16KdZVIWo"
      },
      "source": [
        "# all_data['label'].value_counts()\n",
        "# set(lankadeepa_data.comment.apply(list).sum())"
      ],
      "execution_count": null,
      "outputs": []
    },
    {
      "cell_type": "markdown",
      "metadata": {
        "id": "Shq4w6GcqbIq"
      },
      "source": [
        "# Create Input"
      ]
    },
    {
      "cell_type": "markdown",
      "metadata": {
        "id": "IHqkf0XG8dqL"
      },
      "source": [
        "## comment-label split"
      ]
    },
    {
      "cell_type": "code",
      "metadata": {
        "id": "y9ynks11qZ-e"
      },
      "source": [
        "# edit this later \n",
        "def text_preprocessing(train_data,test_data):\n",
        "  train_data_texts = train_data['comment']\n",
        "  train_data_labels = train_data['label']\n",
        "  test_data_texts = test_data['comment']\n",
        "  test_data_labels = test_data['label']\n",
        "\n",
        "\n",
        "  comment_texts = []\n",
        "  comment_labels = []\n",
        "\n",
        "  train_text = []\n",
        "  test_text = []\n",
        "  train_labels=[]\n",
        "  test_labels=[]\n",
        "\n",
        "  for label in train_data_labels:\n",
        "    if label == \"POSITIVE\":\n",
        "      train_labels.append(1)\n",
        "    else:\n",
        "      train_labels.append(0)\n",
        "  comment_labels.append(train_labels)\n",
        "\n",
        "  for label in test_data_labels:\n",
        "    if label == \"POSITIVE\":\n",
        "      test_labels.append(1)\n",
        "    else:\n",
        "      test_labels.append(0)\n",
        "  comment_labels.append(test_labels)\n",
        "  \n",
        "\n",
        "  for comment in train_data_texts:\n",
        "    lines = []\n",
        "    try:\n",
        "      words = comment.split()\n",
        "      lines += words\n",
        "    except:\n",
        "      continue\n",
        "    train_text.append(lines)\n",
        "  comment_texts.append(train_text)\n",
        "\n",
        "  for comment in test_data_texts:\n",
        "    lines = []\n",
        "    try:\n",
        "      words = comment.split()\n",
        "      lines += words\n",
        "    except:\n",
        "      continue\n",
        "    test_text.append(lines)\n",
        "  comment_texts.append(test_text)\n",
        "\n",
        "\n",
        "  return comment_texts,comment_labels\n",
        "\n",
        "# edit this later \n",
        "def text_preprocessing_1(data):\n",
        "  comments = data['comment']\n",
        "  labels = data['label']\n",
        "\n",
        "  comments_splitted = []\n",
        "  labels_encoded = []\n",
        "\n",
        "  for label in labels:\n",
        "    if label == \"POSITIVE\":\n",
        "      labels_encoded.append(1)\n",
        "    else:\n",
        "      labels_encoded.append(0)\n",
        "\n",
        "  for comment in comments:\n",
        "    lines = []\n",
        "    try:\n",
        "      words = comment.split()\n",
        "      lines += words\n",
        "    except:\n",
        "      continue\n",
        "    comments_splitted.append(lines)\n",
        "  return comments_splitted,labels_encoded\n",
        "\n",
        "\n",
        "def text_preprocessing_2(data):\n",
        "  comments = data['comment']\n",
        "  labels = data['label']\n",
        "\n",
        "  comments_splitted = []\n",
        "\n",
        "  for comment in comments:\n",
        "    lines = []\n",
        "    try:\n",
        "      words = comment.split()\n",
        "      lines += words\n",
        "    except:\n",
        "      continue\n",
        "    comments_splitted.append(lines)\n",
        "\n",
        "  return comments_splitted,labels"
      ],
      "execution_count": null,
      "outputs": []
    },
    {
      "cell_type": "markdown",
      "metadata": {
        "id": "LdKgzrbd8Uy8"
      },
      "source": [
        "## Takenize and Split Data"
      ]
    },
    {
      "cell_type": "code",
      "metadata": {
        "colab": {
          "base_uri": "https://localhost:8080/"
        },
        "id": "BZoOqtodrUY1",
        "outputId": "b2e15d96-e9c1-4882-d8ef-92c337db9992"
      },
      "source": [
        "comment_texts, comment_labels = text_preprocessing_2(all_data)\n",
        "\n",
        "# prepare tokenizer\n",
        "\n",
        "t = Tokenizer()\n",
        "t.fit_on_texts(comment_texts)\n",
        "vocab_size = len(t.word_index) + 1\n",
        "print(vocab_size)"
      ],
      "execution_count": null,
      "outputs": [
        {
          "output_type": "stream",
          "text": [
            "184649\n"
          ],
          "name": "stdout"
        }
      ]
    },
    {
      "cell_type": "code",
      "metadata": {
        "id": "UMhZbzGur4kt"
      },
      "source": [
        "encoded_docs = t.texts_to_sequences(comment_texts)"
      ],
      "execution_count": null,
      "outputs": []
    },
    {
      "cell_type": "code",
      "metadata": {
        "id": "Ho5NTzHtsKoN"
      },
      "source": [
        "max_length = len(max(encoded_docs, key=len))\n",
        "padded_docs = pad_sequences(encoded_docs, maxlen=max_length)\n",
        "\n",
        "comment_labels = np.array(comment_labels)\n",
        "padded_docs = np.array(padded_docs)"
      ],
      "execution_count": null,
      "outputs": []
    },
    {
      "cell_type": "code",
      "metadata": {
        "colab": {
          "base_uri": "https://localhost:8080/"
        },
        "id": "gBRINFtdvEQS",
        "outputId": "b8341569-798f-4ee8-9bd2-92a874fab719"
      },
      "source": [
        "comment_labels = pd.get_dummies(comment_labels).values\n",
        "print('Shape of label tensor:', comment_labels.shape)"
      ],
      "execution_count": null,
      "outputs": [
        {
          "output_type": "stream",
          "text": [
            "Shape of label tensor: (381891, 2)\n"
          ],
          "name": "stdout"
        }
      ]
    },
    {
      "cell_type": "code",
      "metadata": {
        "id": "Drgv_J0ZUV8j"
      },
      "source": [
        "\n",
        "X_train, X_test, y_train, y_test = train_test_split(padded_docs, comment_labels, test_size=0.1, random_state=0)\n"
      ],
      "execution_count": null,
      "outputs": []
    },
    {
      "cell_type": "code",
      "metadata": {
        "colab": {
          "base_uri": "https://localhost:8080/"
        },
        "id": "49a_GcIvkmch",
        "outputId": "009ae6c0-4005-45dc-a465-437b6aca61ff"
      },
      "source": [
        "(unique, counts) = np.unique(y_test, return_counts = True)\n",
        "frequencies = np.asarray((unique, counts)).T\n",
        "print(frequencies)"
      ],
      "execution_count": null,
      "outputs": [
        {
          "output_type": "stream",
          "text": [
            "[[    0 38190]\n",
            " [    1 38190]]\n"
          ],
          "name": "stdout"
        }
      ]
    },
    {
      "cell_type": "markdown",
      "metadata": {
        "id": "91fqgdk67oaZ"
      },
      "source": [
        "# Word Embedding"
      ]
    },
    {
      "cell_type": "markdown",
      "metadata": {
        "id": "sPm_9b6Y8EPi"
      },
      "source": [
        "## Generate Embedding Metrix"
      ]
    },
    {
      "cell_type": "code",
      "metadata": {
        "id": "kOB0YKL-fNW5"
      },
      "source": [
        "def generate_embedding_metrix():\n",
        "  if (embedding_type == 'fasttext'):\n",
        "    word_embedding_model = FastText.load(word_embedding_path)\n",
        "  else:\n",
        "    word_embedding_model = word2vec.Word2Vec.load(word_embedding_path)\n",
        "    \n",
        "  word_vectors = word_embedding_model.wv\n",
        "  word_vectors.save(word_embedding_keydvectors_path)\n",
        "  word_vectors = KeyedVectors.load(word_embedding_keydvectors_path, mmap='r')\n",
        "\n",
        "  embeddings_index = dict()\n",
        "  for word, vocab_obj in word_vectors.vocab.items():\n",
        "    embeddings_index[word]=word_vectors[word]\n",
        "\n",
        "  # create a weight matrix for words in training docs\n",
        "  embedding_matrix = zeros((vocab_size, embedding_size))\n",
        "  for word, i in t.word_index.items():\n",
        "    embedding_vector = embeddings_index.get(word)\n",
        "    if embedding_vector is not None:\n",
        "      embedding_matrix[i] = embedding_vector\n",
        "\n",
        "  pickle.dump(embedding_matrix, open(embedding_matrix_path, 'wb'))\n",
        "  return embedding_matrix"
      ],
      "execution_count": null,
      "outputs": []
    },
    {
      "cell_type": "markdown",
      "metadata": {
        "id": "wVYEOwiN8H3s"
      },
      "source": [
        "## Load Embedding Matrix"
      ]
    },
    {
      "cell_type": "code",
      "metadata": {
        "id": "YNSwoRM292-u"
      },
      "source": [
        "def load_word_embedding_atrix():\n",
        "  f = open(embedding_matrix_path, 'rb')\n",
        "  embedding_matrix= np.array(pickle.load(f))\n",
        "  return embedding_matrix"
      ],
      "execution_count": null,
      "outputs": []
    },
    {
      "cell_type": "markdown",
      "metadata": {
        "id": "lrmGuYXf82E_"
      },
      "source": [
        "# Models"
      ]
    },
    {
      "cell_type": "markdown",
      "metadata": {
        "id": "hx80tScO_ddi"
      },
      "source": [
        "## RNN(LSTM/GRU) model"
      ]
    },
    {
      "cell_type": "code",
      "metadata": {
        "id": "K9elMDrR_laX"
      },
      "source": [
        "def RNN_model(RNN_layer, maxlen, hidden_dims, l2_reg, drop_out_value_1, drop_out_value_2):\n",
        "    main_input = Input(shape=(maxlen, ), dtype='int32', name='main_input')\n",
        "    embedding  = Embedding(MAX_FEATURES, EMBEDDING_SIZE,\n",
        "                  weights=[EMBEDDING_MATRIX], input_length=maxlen,\n",
        "                  name='embedding' ,trainable=False)(main_input)\n",
        "\n",
        "    embedding = Dropout(drop_out_value_1)(embedding)\n",
        "\n",
        "    x = RNN(hidden_dims)(embedding)\n",
        "\n",
        "    x = Dense(hidden_dims, activation='relu', init='he_normal', \n",
        "              W_constraint = maxnorm(3), b_constraint=maxnorm(3),\n",
        "              name='mlp')(x)\n",
        "\n",
        "    x = Dropout(drop_out_value_2, name='drop')(x)\n",
        "\n",
        "    output = Dense(2, init='he_normal',\n",
        "                   activation='softmax', name='output')(x)\n",
        "\n",
        "    model = Model(input=main_input, output=output ,name=\"RNN_model\")\n",
        "\n",
        "    model.compile(loss={'output':'categorical_crossentropy'},\n",
        "              optimizer=Adadelta(lr=0.95, epsilon=1e-06),\n",
        "              metrics=[\"accuracy\",\n",
        "                       tf.keras.metrics.Precision(),\n",
        "                        tf.keras.metrics.Recall(),\n",
        "                       f1])\n",
        "    \n",
        "    print(model.summary())\n",
        "    return model\n",
        "\n",
        "def stacked_RNN_model_2(RNN_layer, maxlen, hidden_dims, l2_reg, drop_out_value_1, drop_out_value_2):\n",
        "    main_input = Input(shape=(maxlen, ), dtype='int32', name='main_input')\n",
        "    embedding  = Embedding(MAX_FEATURES, EMBEDDING_SIZE,\n",
        "                  weights=[EMBEDDING_MATRIX], input_length=maxlen,\n",
        "                  name='embedding' ,trainable=False)(main_input)\n",
        "\n",
        "    embedding = Dropout(drop_out_value_1)(embedding)\n",
        "\n",
        "    x = RNN_layer(hidden_dims,return_sequences=True)(embedding)\n",
        "    x = RNN_layer(hidden_dims)(x)\n",
        "\n",
        "    x = Dense(hidden_dims, activation='relu', init='he_normal',\n",
        "              W_constraint = maxnorm(3), b_constraint=maxnorm(3),\n",
        "              name='mlp')(x)\n",
        "\n",
        "    x = Dropout(drop_out_value_2, name='drop')(x)\n",
        "\n",
        "    output = Dense(2, init='he_normal',\n",
        "                   activation='softmax', name='output')(x)\n",
        "\n",
        "    model = Model(input=main_input, output=output, name= \"stacked_RNN_model_2\")\n",
        "\n",
        "    model.compile(loss={'output':'categorical_crossentropy'},\n",
        "          optimizer=Adadelta(lr=0.95, epsilon=1e-06),\n",
        "          metrics=[\"accuracy\",\n",
        "                       tf.keras.metrics.Precision(),\n",
        "                        tf.keras.metrics.Recall(),\n",
        "                       f1])\n",
        "\n",
        "    print(model.summary())\n",
        "    return model\n",
        "\n",
        "def stacked_RNN_model_3(RNN_layer, maxlen, hidden_dims, l2_reg, drop_out_value_1, drop_out_value_2):\n",
        "    main_input = Input(shape=(maxlen, ), dtype='int32', name='main_input')\n",
        "    embedding  = Embedding(MAX_FEATURES, EMBEDDING_SIZE,\n",
        "                  weights=[EMBEDDING_MATRIX], input_length=maxlen,\n",
        "                  name='embedding' ,trainable=False)(main_input)\n",
        "\n",
        "    embedding = Dropout(drop_out_value_1)(embedding)\n",
        "\n",
        "    x = RNN_layer(hidden_dims,return_sequences=True)(embedding)\n",
        "    x = RNN_layer(hidden_dims,return_sequences=True)(x)\n",
        "    x = RNN_layer(hidden_dims)(x)\n",
        "\n",
        "    x = Dense(hidden_dims, activation='relu', init='he_normal',\n",
        "              W_constraint = maxnorm(3), b_constraint=maxnorm(3),\n",
        "              name='mlp')(x)\n",
        "\n",
        "    x = Dropout(drop_out_value_2, name='drop')(x)\n",
        "\n",
        "    output = Dense(2, init='he_normal',\n",
        "                   activation='softmax', name='output')(x)\n",
        "\n",
        "    model = Model(input=main_input, output=output, name=\"stacked_RNN_model_3\")\n",
        "\n",
        "    model.compile(loss={'output':'categorical_crossentropy'},\n",
        "      optimizer=Adadelta(lr=0.95, epsilon=1e-06),\n",
        "      metrics=[\"accuracy\",\n",
        "                    tf.keras.metrics.Precision(),\n",
        "                    tf.keras.metrics.Recall(),\n",
        "                    f1])\n",
        "\n",
        "    print(model.summary())\n",
        "    return model"
      ],
      "execution_count": null,
      "outputs": []
    },
    {
      "cell_type": "markdown",
      "metadata": {
        "id": "Pt3TZsP84gRK"
      },
      "source": [
        "## CNN+RNN(LSTM /GRU) model "
      ]
    },
    {
      "cell_type": "code",
      "metadata": {
        "id": "m3v2boPz4frA"
      },
      "source": [
        "def CNN_RNN_model(RNN_layer, maxlen, hidden_dims, l2_reg, drop_out_value_1, drop_out_value_2):\n",
        "    main_input = Input(shape=(maxlen, ), dtype='int32', name='main_input')\n",
        "    embedding  = Embedding(MAX_FEATURES, EMBEDDING_SIZE,\n",
        "                  weights=[EMBEDDING_MATRIX], input_length=maxlen,\n",
        "                  name='embedding' ,trainable=False)(main_input)\n",
        "\n",
        "    embedding = Dropout(drop_out_value_1)(embedding)\n",
        "\n",
        "    conv4 = Convolution1D(NB_FILTERS,\n",
        "                          4,\n",
        "                          border_mode='valid',\n",
        "                          activation='relu',\n",
        "                          subsample_length=1,\n",
        "                          name='conv4')(embedding)\n",
        "    maxConv4 = MaxPooling1D(pool_length=2,\n",
        "                             name='maxConv4')(conv4)\n",
        "\n",
        "    conv5 = Convolution1D(NB_FILTERS,\n",
        "                          5,\n",
        "                          border_mode='valid',\n",
        "                          activation='relu',\n",
        "                          subsample_length=1,\n",
        "                          name='conv5')(embedding)\n",
        "    maxConv5 = MaxPooling1D(pool_length=2,\n",
        "                            name='maxConv5')(conv5)\n",
        "\n",
        "    x = keras.layers.Concatenate(axis=1)([maxConv4, maxConv5])\n",
        "\n",
        "    x = Dropout(drop_out_value_2)(x)\n",
        "\n",
        "    x = RNN(rnn_output_size)(x)\n",
        "\n",
        "\n",
        "    x = Dense(hidden_dims, activation='relu', init='he_normal',\n",
        "              W_constraint = maxnorm(3), b_constraint=maxnorm(3),\n",
        "              name='mlp')(x)\n",
        "\n",
        "    x = Dropout(drop_out_value_2, name='drop')(x)\n",
        "\n",
        "    output = Dense(2, init='he_normal',\n",
        "                   activation='softmax', name='output')(x)\n",
        "\n",
        "    model = Model(input=main_input, output=output, name= \"CNN+RNN model\")\n",
        "\n",
        "    model.compile(loss={'output':'categorical_crossentropy'},\n",
        "      optimizer=Adadelta(lr=0.95, epsilon=1e-06),\n",
        "      metrics=[\"accuracy\",\n",
        "                    tf.keras.metrics.Precision(),\n",
        "                    tf.keras.metrics.Recall(),\n",
        "                    f1])\n",
        "\n",
        "    return model"
      ],
      "execution_count": null,
      "outputs": []
    },
    {
      "cell_type": "markdown",
      "metadata": {
        "id": "xxGsm-SlgL1q"
      },
      "source": [
        "## BiLSTM "
      ]
    },
    {
      "cell_type": "code",
      "metadata": {
        "id": "OeGG2DQWgQUK"
      },
      "source": [
        "# final model\n",
        "def BiLSTM_model(maxlen, drop_out_value):\n",
        "  input = Input(shape=(maxlen,))\n",
        "  embedding = Embedding(MAX_FEATURES,EMBEDDING_SIZE,weights=[EMBEDDING_MATRIX],input_length=maxlen)(input)\n",
        "\n",
        "  model =  Bidirectional (LSTM (300,return_sequences=True,dropout=drop_out_value,kernel_regularizer=l2(0.01)),merge_mode='concat')(embedding)\n",
        "  model = TimeDistributed(Dense(300,activation='relu'))(model)\n",
        "  model = Flatten()(model)\n",
        "  # model = Dense(300,activation='relu')(model) # extra dense layer\n",
        "  output = Dense(2,activation='softmax')(model)\n",
        "  model = Model(input,output)\n",
        "  model.compile(loss='categorical_crossentropy',optimizer='adam', metrics=['accuracy'])\n",
        "  return model"
      ],
      "execution_count": null,
      "outputs": []
    },
    {
      "cell_type": "markdown",
      "metadata": {
        "id": "zFgoOdnHgZvZ"
      },
      "source": [
        "### Stacked_BiLSTM"
      ]
    },
    {
      "cell_type": "code",
      "metadata": {
        "id": "AZgd_cbYgYc5"
      },
      "source": [
        "# final model\n",
        "def stacked_BiLSTM_model_2(maxlen, drop_out_value):\n",
        "  input = Input(shape=(maxlen,))\n",
        "  embedding = Embedding(MAX_FEATURES,EMBEDDING_SIZE,weights=[EMBEDDING_MATRIX],input_length=maxlen)(input)\n",
        "\n",
        "  model =  Bidirectional (LSTM (300,return_sequences=True,dropout=drop_out_value,kernel_regularizer=l2(0.01)),merge_mode='concat')(embedding)\n",
        "  model =  Bidirectional (LSTM (300,return_sequences=True),merge_mode='concat')(model)\n",
        "  model = TimeDistributed(Dense(300,activation='relu'))(model)\n",
        "  model = Flatten()(model)\n",
        "  model = Dense(300,activation='relu')(model)\n",
        "  output = Dense(2,activation='softmax')(model)\n",
        "  model = Model(input,output)\n",
        "  model.compile(loss='categorical_crossentropy',optimizer='adam', metrics=[\"accuracy\",\n",
        "                    tf.keras.metrics.Precision(),\n",
        "                    tf.keras.metrics.Recall(),\n",
        "                    f1])\n",
        "  return model\n",
        "\n",
        "# final model\n",
        "def stacked_BiLSTM_model_3(maxlen, drop_out_value):\n",
        "  input = Input(shape=(maxlen,))\n",
        "  embedding = Embedding(MAX_FEATURES,EMBEDDING_SIZE,weights=[EMBEDDING_MATRIX],input_length=maxlen)(input)\n",
        "\n",
        "  model =  Bidirectional (LSTM (300,return_sequences=True,dropout=drop_out_value,kernel_regularizer=l2(0.01)),merge_mode='concat')(embedding)\n",
        "  model =  Bidirectional (LSTM (300,return_sequences=True),merge_mode='concat')(model)\n",
        "  model =  Bidirectional (LSTM (300,return_sequences=True),merge_mode='concat')(model)\n",
        "  model = TimeDistributed(Dense(300,activation='relu'))(model)\n",
        "  model = Flatten()(model)\n",
        "  model = Dense(300,activation='relu')(model)\n",
        "  output = Dense(2,activation='softmax')(model)\n",
        "  model = Model(input,output)\n",
        "  model.compile(loss='categorical_crossentropy',optimizer='adam', metrics=[\"accuracy\",\n",
        "                    tf.keras.metrics.Precision(),\n",
        "                    tf.keras.metrics.Recall(),\n",
        "                    f1])\n",
        "  \n",
        "  return model"
      ],
      "execution_count": null,
      "outputs": []
    },
    {
      "cell_type": "markdown",
      "metadata": {
        "id": "aEjRpo6igkE9"
      },
      "source": [
        "## CNN+BiLSTM"
      ]
    },
    {
      "cell_type": "code",
      "metadata": {
        "id": "IM7tpzPEgjFh"
      },
      "source": [
        "def CNN_BiLSTM_model(maxlen):\n",
        "  # main model\n",
        "  input = Input(shape=(maxlen,))\n",
        "  embedding = Embedding(MAX_FEATURES,EMBEDDING_SIZE,weights=[EMBEDDING_MATRIX],input_length=maxlen)(input)\n",
        "\n",
        "  conv4 = Convolution1D(nb_filter=NB_FILTERS,\n",
        "                          filter_length=4,\n",
        "                          border_mode='valid',\n",
        "                          activation='relu',\n",
        "                          subsample_length=1,\n",
        "                          name='conv4')(embedding)\n",
        "  maxConv4 = MaxPooling1D(pool_length=2,\n",
        "                             name='maxConv4')(conv4)\n",
        "\n",
        "  conv5 = Convolution1D(nb_filter=NB_FILTERS,\n",
        "                          filter_length=5,\n",
        "                          border_mode='valid',\n",
        "                          activation='relu',\n",
        "                          subsample_length=1,\n",
        "                          name='conv5')(embedding)\n",
        "  maxConv5 = MaxPooling1D(pool_length=2,\n",
        "                            name='maxConv5')(conv5)\n",
        "\n",
        "\n",
        "  x = keras.layers.Concatenate(axis=1)([maxConv4, maxConv5])\n",
        "\n",
        "  x = Dropout(0.15)(x)\n",
        "\n",
        "  model =  Bidirectional (LSTM (300,return_sequences=True,dropout=0.8),merge_mode='concat')(x)\n",
        "  model = TimeDistributed(Dense(300,activation='relu'))(model)\n",
        "  model = Flatten()(model)\n",
        "  model = Dense(300,activation='relu')(model)\n",
        "  output = Dense(2,activation='softmax')(model)\n",
        "  model = Model(input,output)\n",
        "  model.compile(loss='sparse_categorical_crossentropy',optimizer='adam', metrics=[\"accuracy\",\n",
        "                    tf.keras.metrics.Precision(),\n",
        "                    tf.keras.metrics.Recall(),\n",
        "                    f1])\n",
        "  return model\n"
      ],
      "execution_count": null,
      "outputs": []
    },
    {
      "cell_type": "markdown",
      "metadata": {
        "id": "WC0ZRhKe5a6C"
      },
      "source": [
        "# Train and Evaluate Model"
      ]
    },
    {
      "cell_type": "markdown",
      "metadata": {
        "id": "jbpLZfOPGGKN"
      },
      "source": [
        "## Custom F1 Implementation"
      ]
    },
    {
      "cell_type": "code",
      "metadata": {
        "id": "O0sMLlLvEGKq"
      },
      "source": [
        "def f1(y_true, y_pred):\n",
        "    def recall(y_true, y_pred):\n",
        "        \"\"\"Recall metric.\n",
        "\n",
        "        Only computes a batch-wise average of recall.\n",
        "\n",
        "        Computes the recall, a metric for multi-label classification of\n",
        "        how many relevant items are selected.\n",
        "        \"\"\"\n",
        "        true_positives = K.sum(K.round(K.clip(y_true * y_pred, 0, 1)))\n",
        "        possible_positives = K.sum(K.round(K.clip(y_true, 0, 1)))\n",
        "        recall = true_positives / (possible_positives + K.epsilon())\n",
        "        return recall\n",
        "\n",
        "    def precision(y_true, y_pred):\n",
        "        \"\"\"Precision metric.\n",
        "\n",
        "        Only computes a batch-wise average of precision.\n",
        "\n",
        "        Computes the precision, a metric for multi-label classification of\n",
        "        how many selected items are relevant.\n",
        "        \"\"\"\n",
        "        true_positives = K.sum(K.round(K.clip(y_true * y_pred, 0, 1)))\n",
        "        predicted_positives = K.sum(K.round(K.clip(y_pred, 0, 1)))\n",
        "        precision = true_positives / (predicted_positives + K.epsilon())\n",
        "        return precision\n",
        "    precision = precision(y_true, y_pred)\n",
        "    recall = recall(y_true, y_pred)\n",
        "    return 2*((precision*recall)/(precision+recall+K.epsilon()))"
      ],
      "execution_count": null,
      "outputs": []
    },
    {
      "cell_type": "markdown",
      "metadata": {
        "id": "fqK6yZoCHIyE"
      },
      "source": [
        "## Train and Validate model"
      ]
    },
    {
      "cell_type": "code",
      "metadata": {
        "id": "LhOLwIC-5aiD"
      },
      "source": [
        "def Train_Model_old(model,X_train, X_test, y_train, y_test):\n",
        "\n",
        "  print('Training and Testing...')\n",
        "  test_accs = []\n",
        "  first_run = True\n",
        "\n",
        "\n",
        "  acc=[]\n",
        "  val_acc=[]\n",
        "  loss=[]\n",
        "  val_loss=[]\n",
        "  best_val_acc = 0\n",
        "  best_test_acc = 0\n",
        "  for j in range(nb_epoch):\n",
        "      a = time.time()\n",
        "      his = model.fit(X_train, y_train,\n",
        "                      batch_size=batch_size,\n",
        "                      validation_data=[X_test, y_test],\n",
        "                      shuffle=True,\n",
        "                      epochs=1, verbose=verbosity)\n",
        "      acc+=his.history['accuracy']\n",
        "      val_acc+=his.history['val_accuracy']\n",
        "      loss+=his.history['loss']\n",
        "      val_loss+=his.history['val_loss']\n",
        "      # print('Epoch %d/%d\\t%s' % (j + 1, nb_epoch, str(his.history)))\n",
        "      if his.history['val_accuracy'][0] >= best_val_acc:\n",
        "          score, test_acc = model.evaluate(X_test, y_test,\n",
        "                                      batch_size=batch_size,\n",
        "                                      verbose=2)\n",
        "          best_val_acc = his.history['val_accuracy'][0]\n",
        "          best_test_acc = test_acc\n",
        "          print('Got best epoch  best val acc is %f test acc is %f' %\n",
        "                (best_val_acc, best_test_acc))\n",
        "          if len(test_accs) > 0:\n",
        "              print('Current avg test acc:', str(np.mean(test_accs)))\n",
        "      b = time.time()\n",
        "      cost = b - a\n",
        "      left = (nb_epoch - j - 1)\n",
        "      print('One round cost %ds, %d round %ds %dmin left' % (cost, left,\n",
        "                                                            cost * left,\n",
        "                                                            cost * left / 60.0))\n",
        "      test_accs.append(best_test_acc)\n",
        "\n",
        "  print('Avg test acc:', str(np.mean(test_accs)))\n",
        "  return model"
      ],
      "execution_count": null,
      "outputs": []
    },
    {
      "cell_type": "code",
      "metadata": {
        "id": "XTuRxzncQc5q"
      },
      "source": [
        "def Train_Model(model,X_train, y_train, cross_validation = False):\n",
        "\n",
        "  print('Training and Testing...')\n",
        "  print (X_train.shape, y_train.shape)\n",
        "  \n",
        "  es = EarlyStopping(monitor='val_f1', mode='max', verbose=1, patience=5)\n",
        "  checkpoint = ModelCheckpoint(model_save_path, monitor='val_f1', verbose=1, save_weights_only=True, mode='max')\n",
        "  callbacks_list = [checkpoint,es]\n",
        "\n",
        "  if (cross_validation):\n",
        "    callbacks_list = [es]\n",
        "\n",
        "  his = model.fit(X_train, y_train, validation_split=VALIDATION_SPLIT, epochs=NB_EPOCHS, batch_size=BATCH_SIZE, callbacks=callbacks_list, verbose=1)\n",
        "  \n",
        "\n",
        "  # checkpoint_path = folder_path + \"/CNN_RNN/\"+str(experiment_no)+\"_weights_best_\"+model_name+\"_\"+embedding_type+\"_\"+str(experiment_no)+\".ckpt\"\n",
        "  # checkpoint_dir = os.path.dirname(checkpoint_path)\n",
        "\n",
        "  # # Create a callback that saves the model's weights\n",
        "  # cp_callback = tf.keras.callbacks.ModelCheckpoint(filepath=checkpoint_path, save_weights_only=True, verbose=1)\n",
        "\n",
        "  # # Train the model with the new callback\n",
        "  # his = model.fit(X_train, y_train, validation_split=VALIDATION_SPLIT, epochs=NB_EPOCHS, batch_size=BATCH_SIZE, callbacks=[cp_callback])\n",
        "\n",
        "  return model,his"
      ],
      "execution_count": null,
      "outputs": []
    },
    {
      "cell_type": "markdown",
      "metadata": {
        "id": "u4DuyDZMkcE3"
      },
      "source": [
        "# Cross Validation"
      ]
    },
    {
      "cell_type": "code",
      "metadata": {
        "id": "4TMmqz8BkTQR"
      },
      "source": [
        "def Do_Cross_Validation(X,y):\n",
        "\n",
        "  # Define per-fold score containers\n",
        "  loss_per_fold = []\n",
        "  acc_per_fold = []\n",
        "  precision_per_fold = []\n",
        "  recall_per_fold = []\n",
        "  f1_per_fold = []\n",
        "  \n",
        "\n",
        "  kfold = KFold(n_splits=FOLDS, shuffle=True)\n",
        "\n",
        "  fold_no = 1\n",
        "  inputs = X\n",
        "  targets = y\n",
        "  for train, test in kfold.split(inputs, targets):\n",
        "\n",
        "    # model = build_model()\n",
        "    model = RNN_model(GRU, MAX_LEN, HIDDEN_DIMS, L2_REG, DROPOUT_VALUE_1, DROPOUT_VALUE_2)\n",
        "    \n",
        "    # RNN_layer, maxlen, hidden_dims, l2_reg, drop_out_value_1, drop_out_value_2\n",
        "\n",
        "    # Generate a print\n",
        "    print('------------------------------------------------------------------------')\n",
        "    print(f'Training for fold {fold_no} ...')\n",
        "\n",
        "    # Fit data to model\n",
        "    model, his = Train_Model(model,inputs[train], targets[train], cross_validation=True)\n",
        " \n",
        "    # Generate generalization metrics\n",
        "    scores = model.evaluate(inputs[test], targets[test], verbose=0)\n",
        "\n",
        "    print(f\"\"\"Score for fold {fold_no}:\n",
        "     {model.metrics_names[0]} of {scores[0]}; \n",
        "     {model.metrics_names[1]} of {scores[1]*100}% ;\n",
        "     {model.metrics_names[2]} of {scores[2]*100}% ;\n",
        "     {model.metrics_names[3]} of {scores[3]*100}% ;\n",
        "     {model.metrics_names[4]} of {scores[4]*100}% ;\n",
        "     \"\"\")\n",
        "    \n",
        "    loss_per_fold.append(scores[0])\n",
        "    acc_per_fold.append(scores[1])\n",
        "    precision_per_fold.append(scores[2])\n",
        "    recall_per_fold.append(scores[3])\n",
        "    f1_per_fold.append(scores[4])\n",
        "\n",
        "    # Increase fold number\n",
        "    fold_no = fold_no + 1\n",
        "\n",
        "  # == Provide average scores ==\n",
        "  print('------------------------------------------------------------------------')\n",
        "  print('Score per fold')\n",
        "  for i in range(0, len(acc_per_fold)):\n",
        "    print('------------------------------------------------------------------------')\n",
        "    print(f\"\"\"> Fold {i+1} - \n",
        "    Loss: {loss_per_fold[i]} - \n",
        "    Accuracy: {acc_per_fold[i]}% - \n",
        "    Precesion: {precision_per_fold[i]}% - \n",
        "    Recall: {recall_per_fold[i]}% - \n",
        "    F1: {f1_per_fold[i]}%\n",
        "    \"\"\")\n",
        "  print('------------------------------------------------------------------------')\n",
        "  print('Average scores for all folds:')\n",
        "  print(f'> Loss: {np.mean(loss_per_fold)}')\n",
        "  print(f'> Accuracy: {np.mean(acc_per_fold)} (+- {np.std(acc_per_fold)})')\n",
        "  print(f'> Precision: {np.mean(precision_per_fold)}')\n",
        "  print(f'> Recall: {np.mean(recall_per_fold)}')\n",
        "  print(f'> F1: {np.mean(f1_per_fold)}')\n",
        "  print('------------------------------------------------------------------------')"
      ],
      "execution_count": null,
      "outputs": []
    },
    {
      "cell_type": "markdown",
      "metadata": {
        "id": "B6CXqtIDR4jS"
      },
      "source": [
        "# Plot Graphs"
      ]
    },
    {
      "cell_type": "code",
      "metadata": {
        "id": "fvl487sr8seD"
      },
      "source": [
        "def Plot_graphs(metric,val_metric,metric_name):\n",
        "\n",
        "  epochs=range(len(metric)) # Get number of epochs\n",
        "\n",
        "  if metric_name == \"accuracy\":\n",
        "    #------------------------------------------------\n",
        "    # Plot training and validation accuracy per epoch\n",
        "    #------------------------------------------------\n",
        "    plt.plot(epochs, metric, 'r')\n",
        "    plt.plot(epochs, val_metric, 'b')\n",
        "    plt.title('Training and validation accuracy')\n",
        "    plt.xlabel(\"Epochs\")\n",
        "    plt.ylabel(\"Accuracy\")\n",
        "    plt.legend([\"Accuracy\", \"Validation Accuracy\"])\n",
        "\n",
        "    plt.figure()\n",
        "\n",
        "  elif metric_name == \"loss\" :\n",
        "    #------------------------------------------------\n",
        "    # Plot training and validation loss per epoch\n",
        "    #------------------------------------------------\n",
        "    plt.plot(epochs, metric, 'r')\n",
        "    plt.plot(epochs, val_metric, 'b')\n",
        "    plt.title('Training and validation loss')\n",
        "    plt.xlabel(\"Epochs\")\n",
        "    plt.ylabel(\"Loss\")\n",
        "    plt.legend([\"Loss\", \"Validation Loss\"])\n",
        "\n",
        "    plt.figure()\n",
        "\n",
        "  elif metric_name == \"f1\" :\n",
        "    #------------------------------------------------\n",
        "    # Plot training and validation loss per epoch\n",
        "    #------------------------------------------------\n",
        "    plt.plot(epochs, metric, 'r')\n",
        "    plt.plot(epochs, val_metric, 'b')\n",
        "    plt.title('Training and validation F1')\n",
        "    plt.xlabel(\"Epochs\")\n",
        "    plt.ylabel(\"F1\")\n",
        "    plt.legend([\"F1\", \"Validation F1\"])\n",
        "\n",
        "    plt.figure()\n",
        "\n",
        "\n",
        "  # Expected Output\n",
        "  # A chart where the validation loss does not increase sharply!"
      ],
      "execution_count": null,
      "outputs": []
    },
    {
      "cell_type": "markdown",
      "metadata": {
        "id": "0RS6GyZ8-mk7"
      },
      "source": [
        "# Main Method"
      ]
    },
    {
      "cell_type": "markdown",
      "metadata": {
        "id": "dN_uGz3CZMCh"
      },
      "source": [
        "## Set Hyper-Parameters"
      ]
    },
    {
      "cell_type": "code",
      "metadata": {
        "id": "85wsS8Mn8oeI"
      },
      "source": [
        "# EMBEDDING_MATRIX = generate_embedding_metrix()\n",
        "EMBEDDING_MATRIX = load_word_embedding_atrix()"
      ],
      "execution_count": null,
      "outputs": []
    },
    {
      "cell_type": "markdown",
      "metadata": {
        "id": "p-x5t7AF_DGO"
      },
      "source": [
        "## Build and Compile Model"
      ]
    },
    {
      "cell_type": "code",
      "metadata": {
        "id": "IuEifQn3Jc98"
      },
      "source": [
        "def build_model() :\n",
        "  model = None\n",
        "\n",
        "  if (model_type == \"RNN\" or model_type == \"GRU\" or model_type == \"LSTM\"):\n",
        "    # configure layer\n",
        "    layer = None\n",
        "    if (model_type == \"RNN\"):\n",
        "      layer = RNN\n",
        "    elif (model_type == \"GRU\"):\n",
        "      layer = GRU\n",
        "    elif (model_type == \"LSTM\"):\n",
        "      layer = LSTM\n",
        "      \n",
        "    \n",
        "    # configure architecture\n",
        "    if (stack_modeles == \"2\"):\n",
        "      model = stacked_RNN_model_2(layer,MAX_LEN, HIDDEN_DIMS, L2_REG, DROPOUT_VALUE_1, DROPOUT_VALUE_2)\n",
        "    elif (stack_modeles == \"3\"):\n",
        "      model = stacked_RNN_model_3(layer,MAX_LEN, HIDDEN_DIMS, L2_REG, DROPOUT_VALUE_1, DROPOUT_VALUE_2)\n",
        "    elif (apply_CNN):\n",
        "      model = CNN_RNN_model(layer,MAX_LEN, HIDDEN_DIMS, L2_REG, DROPOUT_VALUE_1, DROPOUT_VALUE_2)\n",
        "    else :\n",
        "      model = RNN_model(layer,MAX_LEN, HIDDEN_DIMS, L2_REG, DROPOUT_VALUE_1, DROPOUT_VALUE_2)\n",
        "\n",
        "  elif (model_type == \"BiLSTM\" ):\n",
        "\n",
        "    # configure architecture\n",
        "    if (stack_modeles == \"2\"):\n",
        "      model = stacked_BiLSTM_model_2(MAX_LEN, DROPOUT_VALUE_1)\n",
        "    elif (stack_modeles == \"3\"):\n",
        "      model = stacked_BiLSTM_model_3(MAX_LEN, DROPOUT_VALUE_1)\n",
        "    elif (apply_CNN):\n",
        "      model = CNN_BiLSTM_model(MAX_LEN)\n",
        "    else :\n",
        "      model = BiLSTM_model(MAX_LEN, DROPOUT_VALUE_1)\n",
        "\n",
        "  return model"
      ],
      "execution_count": null,
      "outputs": []
    },
    {
      "cell_type": "markdown",
      "metadata": {
        "id": "d46ja9NetIpP"
      },
      "source": [
        "## Train and Test Model (Holdout Method)"
      ]
    },
    {
      "cell_type": "code",
      "metadata": {
        "id": "ZB39v3N61RCY"
      },
      "source": [
        "MAX_FEATURES = EMBEDDING_MATRIX.shape[0] #vocab_size\n",
        "VERBOSITY = 1\n",
        "VALIDATION_SPLIT = 0.1\n",
        "NB_EPOCHS = 4\n",
        "FOLDS = 10\n",
        "\n",
        "BATCH_SIZE = 64 # 64, 128\n",
        "NB_FILTERS = 200\n",
        "FILTER_LENGTH = 4 # test with 2,3,4,5\n",
        "HIDDEN_DIMS = NB_FILTERS * 2\n",
        "MAX_LEN = 215 #test with other values(only this value work for now)\n",
        "DROPOUT_VALUE_1 = 0.5 #0.8 #0.3\n",
        "DROPOUT_VALUE_2 = 0.1\n",
        "L2_REG= 0.01\n",
        "\n",
        "RNN = GRU\n",
        "\n",
        "rnn_output_size = 300 "
      ],
      "execution_count": null,
      "outputs": []
    },
    {
      "cell_type": "code",
      "metadata": {
        "colab": {
          "base_uri": "https://localhost:8080/",
          "height": 758
        },
        "id": "rV8W-Nthbfh5",
        "outputId": "8ea9a192-c3cf-4d86-b4a4-629f28434665"
      },
      "source": [
        "model = build_model()\n",
        "# model.load_weights(model_save_path)\n",
        "plot_model(model,to_file=\"./model.png\")"
      ],
      "execution_count": null,
      "outputs": [
        {
          "output_type": "execute_result",
          "data": {
            "image/png": "[encoded data removed]",
            "text/plain": [
              "<IPython.core.display.Image object>"
            ]
          },
          "metadata": {
            "tags": []
          },
          "execution_count": 34
        }
      ]
    },
    {
      "cell_type": "markdown",
      "metadata": {
        "id": "G61FNXmM_QSL"
      },
      "source": [
        "### Train Model"
      ]
    },
    {
      "cell_type": "code",
      "metadata": {
        "colab": {
          "background_save": true,
          "base_uri": "https://localhost:8080/"
        },
        "id": "ye7IkwWamR2c",
        "outputId": "615f5000-6677-4798-cec9-80977c1b02ef"
      },
      "source": [
        "# trained_model = Train_Model_old(model,X_train, X_test, y_train, y_test)\n",
        "# model.load_weights(model_save_path)\n",
        "trained_model, his = Train_Model(model,X_train, y_train, cross_validation = False)\n",
        "\n",
        "accuracy = his.history['accuracy']\n",
        "val_accuracy = his.history['val_accuracy']\n",
        "loss = his.history['loss']\n",
        "val_loss = his.history['val_loss']\n",
        "f1 = his.history['f1']\n",
        "val_f1 = his.history['f1']\n",
        "\n",
        "Plot_graphs(accuracy,val_accuracy, \"accuracy\")\n",
        "Plot_graphs(loss,val_loss, \"loss\")\n",
        "Plot_graphs(f1,val_f1, \"f1\")"
      ],
      "execution_count": null,
      "outputs": [
        {
          "output_type": "stream",
          "text": [
            "Training and Testing...\n",
            "(343701, 215) (343701, 2)\n",
            "WARNING:tensorflow:From /usr/local/lib/python3.7/dist-packages/keras/backend/tensorflow_backend.py:422: The name tf.global_variables is deprecated. Please use tf.compat.v1.global_variables instead.\n",
            "\n",
            "Train on 309330 samples, validate on 34371 samples\n",
            "Epoch 1/4\n",
            " 53632/309330 [====>.........................] - ETA: 11:54:26 - loss: 0.7030 - accuracy: 0.8310 - precision: 0.8139 - recall: 0.8139 - f1: 0.8310"
          ],
          "name": "stdout"
        }
      ]
    },
    {
      "cell_type": "markdown",
      "metadata": {
        "id": "H-RSSqI7BDqE"
      },
      "source": [
        "### Restart runtime and import Relibraries\n",
        "There is a bug, if run time isn't restart after this point, It's going to malfunction."
      ]
    },
    {
      "cell_type": "code",
      "metadata": {
        "id": "AnfxE-LmAWmK"
      },
      "source": [
        "# # os.kill(os.getpid(), 9)\n",
        "\n",
        "# exit()"
      ],
      "execution_count": null,
      "outputs": []
    },
    {
      "cell_type": "code",
      "metadata": {
        "id": "Cxp9ViDsA2bb"
      },
      "source": [
        "# from keras.models import Sequential,Model,load_model\n",
        "# import pandas as pd\n",
        "# import numpy as np\n",
        "# from sklearn.metrics import accuracy_score, f1_score, precision_score, recall_score, classification_report, confusion_matrix,precision_recall_fscore_support\n",
        "\n",
        "# experiment_no = 100\n",
        "# model_name = \"RNN\"\n",
        "# experiment_name = folder_path + \"Sentiment Analysis/CNN RNN/experiments/\" + model_name +str(experiment_no)+\"_\"+embedding_type+\"_\"+str(embedding_size)+\"_\"+str(context)\n",
        "\n",
        "# model_save_path = folder_path + \"Sentiment Analysis/CNN RNN/saved_models/weights_best_\"+model_name+\"_\"+embedding_type+\"_\"+str(embedding_size)+\"_\"+str(experiment_no)+\".hdf5\""
      ],
      "execution_count": null,
      "outputs": []
    },
    {
      "cell_type": "markdown",
      "metadata": {
        "id": "_VdzOT3zsB9m"
      },
      "source": [
        "### Test Model"
      ]
    },
    {
      "cell_type": "markdown",
      "metadata": {
        "id": "KMtXKRpRYBx2"
      },
      "source": [
        "#### Load Weights to Model"
      ]
    },
    {
      "cell_type": "code",
      "metadata": {
        "id": "Yl7JuOSe3tBl"
      },
      "source": [
        "# model_save_path = folder_path + \"Sentiment Analysis/CNN RNN/saved_models/111_weights_best_stacked_LSTM_3_fasttext_111.hdf5\"\n",
        "# model.load_weights(model_save_path)\n",
        "loaded_model  = load_model(model_save_path,custom_objects={\"f1\": f1}, compile=True)\n",
        "print(\"loaded \" + model.name)\n",
        "\n",
        "_, train_acc,train_f1 = loaded_model.evaluate(X_train, y_train, verbose=1)\n",
        "_, test_acc,test_f1= loaded_model.evaluate(X_test, y_test, verbose=1)\n",
        "print('Train_acc: %.3f, Test_acc: %.3f, Train_f1: %.3f,  Test_f1: %.3f' % (train_acc, test_acc,train_f1,test_f1))"
      ],
      "execution_count": null,
      "outputs": []
    },
    {
      "cell_type": "markdown",
      "metadata": {
        "id": "BtZBU5XNZaMi"
      },
      "source": [
        "#### Get Predictions"
      ]
    },
    {
      "cell_type": "code",
      "metadata": {
        "id": "MmA4iDmR2czB"
      },
      "source": [
        "predictions = model.predict(X_test, batch_size=BATCH_SIZE, verbose=1)\n",
        "\n",
        "labels = np.argmax(y_test, axis=1)\n",
        "predictions = np.argmax(predictions, axis=1)\n",
        "\n",
        "cm = confusion_matrix(labels,predictions )\n",
        "\n",
        "# classification_report\n",
        "report = classification_report(labels, predictions, digits=4,output_dict=True)\n",
        "report_print = classification_report(labels, predictions, digits=4)\n",
        "print(report_print)\n",
        "\n",
        "# report_df = pd.DataFrame(report).transpose()\n",
        "# report_df.to_csv(experiment_name+\".csv\")\n",
        "\n"
      ],
      "execution_count": null,
      "outputs": []
    },
    {
      "cell_type": "code",
      "metadata": {
        "id": "A5QjsfZxq4fq"
      },
      "source": [
        "# DataTagged_Original = pd.read_csv(all_data_path)\n",
        "DataTagged_Original = pd.concat([lankadeepa_data,gossipLanka_data], ignore_index=True)\n",
        "train_data_original, test_data_original = train_test_split(DataTagged_Original, test_size=0.1, random_state=0)\n",
        "\n",
        "predictions_series = pd.Series(predictions)\n",
        "predictions_1 = pd.get_dummies(predictions_series).idxmax(1)"
      ],
      "execution_count": null,
      "outputs": []
    },
    {
      "cell_type": "code",
      "metadata": {
        "id": "HT-ccXWZRdak"
      },
      "source": [
        "data_frame = pd.DataFrame({'comment': test_data_original['comment'], 'Labels': test_data_original['label'], 'Predictions': np.array(predictions_1)})\n",
        "\n",
        "def add_two(value):\n",
        "  return value+2\n",
        "data_frame[\"Predictions\"] = data_frame[\"Predictions\"].apply(add_two)\n",
        "\n",
        "prediction_save_name  = folder_path + \"Sentiment Analysis/CNN RNN/LSTM_S3_predictions_with_labels_3.csv\"\n",
        "data_frame.to_csv(prediction_save_name)"
      ],
      "execution_count": null,
      "outputs": []
    },
    {
      "cell_type": "markdown",
      "metadata": {
        "id": "qLkfB_XXPS3O"
      },
      "source": [
        "### Print confusion matrix"
      ]
    },
    {
      "cell_type": "code",
      "metadata": {
        "id": "bdCcVDhPPN_m"
      },
      "source": [
        "def plot_confusion_matrix(cm,\n",
        "                          target_names,\n",
        "                          title='Confusion matrix',\n",
        "                          cmap=None,\n",
        "                          normalize=True):\n",
        "    \"\"\"\n",
        "    given a sklearn confusion matrix (cm), make a nice plot\n",
        "\n",
        "    Arguments\n",
        "    ---------\n",
        "    cm:           confusion matrix from sklearn.metrics.confusion_matrix\n",
        "\n",
        "    target_names: given classification classes such as [0, 1, 2]\n",
        "                  the class names, for example: ['high', 'medium', 'low']\n",
        "\n",
        "    title:        the text to display at the top of the matrix\n",
        "\n",
        "    cmap:         the gradient of the values displayed from matplotlib.pyplot.cm\n",
        "                  see http://matplotlib.org/examples/color/colormaps_reference.html\n",
        "                  plt.get_cmap('jet') or plt.cm.Blues\n",
        "\n",
        "    normalize:    If False, plot the raw numbers\n",
        "                  If True, plot the proportions\n",
        "\n",
        "    Usage\n",
        "    -----\n",
        "    plot_confusion_matrix(cm           = cm,                  # confusion matrix created by\n",
        "                                                              # sklearn.metrics.confusion_matrix\n",
        "                          normalize    = True,                # show proportions\n",
        "                          target_names = y_labels_vals,       # list of names of the classes\n",
        "                          title        = best_estimator_name) # title of graph\n",
        "\n",
        "    Citiation\n",
        "    ---------\n",
        "    http://scikit-learn.org/stable/auto_examples/model_selection/plot_confusion_matrix.html\n",
        "\n",
        "    \"\"\"\n",
        "    import matplotlib.pyplot as plt\n",
        "    import numpy as np\n",
        "    import itertools\n",
        "\n",
        "    accuracy = np.trace(cm) / np.sum(cm).astype('float')\n",
        "    misclass = 1 - accuracy\n",
        "\n",
        "    if cmap is None:\n",
        "        cmap = plt.get_cmap('Blues')\n",
        "\n",
        "    plt.figure(figsize=(8, 6))\n",
        "    plt.imshow(cm, interpolation='nearest', cmap=cmap)\n",
        "    plt.title(title)\n",
        "    plt.colorbar()\n",
        "\n",
        "    if target_names is not None:\n",
        "        tick_marks = np.arange(len(target_names))\n",
        "        plt.xticks(tick_marks, target_names, rotation=45)\n",
        "        plt.yticks(tick_marks, target_names)\n",
        "\n",
        "    if normalize:\n",
        "        cm = cm.astype('float') / cm.sum(axis=1)[:, np.newaxis]\n",
        "\n",
        "\n",
        "    thresh = cm.max() / 1.5 if normalize else cm.max() / 2\n",
        "    for i, j in itertools.product(range(cm.shape[0]), range(cm.shape[1])):\n",
        "        if normalize:\n",
        "            plt.text(j, i, \"{:0.4f}\".format(cm[i, j]),\n",
        "                     horizontalalignment=\"center\",\n",
        "                     color=\"white\" if cm[i, j] > thresh else \"black\")\n",
        "        else:\n",
        "            plt.text(j, i, \"{:,}\".format(cm[i, j]),\n",
        "                     horizontalalignment=\"center\",\n",
        "                     color=\"white\" if cm[i, j] > thresh else \"black\")\n",
        "\n",
        "\n",
        "    plt.tight_layout()\n",
        "    plt.ylabel('True label')\n",
        "    plt.xlabel('Predicted label\\naccuracy={:0.4f}; misclass={:0.4f}'.format(accuracy, misclass))\n",
        "    plt.show()"
      ],
      "execution_count": null,
      "outputs": []
    },
    {
      "cell_type": "code",
      "metadata": {
        "id": "aVJwG_4FPQ2f"
      },
      "source": [
        "plot_confusion_matrix(cm, [0,1,2,3],normalize=False)"
      ],
      "execution_count": null,
      "outputs": []
    },
    {
      "cell_type": "markdown",
      "metadata": {
        "id": "_-x34NEZtU5C"
      },
      "source": [
        "## Train and Test Model (Cross Validation)"
      ]
    },
    {
      "cell_type": "code",
      "metadata": {
        "id": "2iZDvr80VxPN"
      },
      "source": [
        "# Do_Cross_Validation(model,padded_docs,comment_labels)\n",
        "Do_Cross_Validation(padded_docs,comment_labels)"
      ],
      "execution_count": null,
      "outputs": []
    },
    {
      "cell_type": "markdown",
      "metadata": {
        "id": "LR7WojLAszo7"
      },
      "source": [
        "# Hyperparameter Tuning"
      ]
    },
    {
      "cell_type": "code",
      "metadata": {
        "id": "GEjuD0hzohUv"
      },
      "source": [
        "def tune_hyperparameters(model_build_fn):\n",
        "  # fix random seed for reproducibility\n",
        "  seed = 7\n",
        "  np.random.seed(seed)\n",
        "\n",
        "  model = KerasClassifier(build_fn=model_build_fn, maxlen=MAX_LEN, hidden_dims=HIDDEN_DIMS, l2_reg= L2_REG, verbose=VERBOSITY)\n",
        "\n",
        "  # optimizer = ['SGD', 'RMSprop', 'Adagrad', 'Adadelta', 'Adam', 'Adamax', 'Nadam']\n",
        "  maxlen_list  = [210]\n",
        "  hidden_dims_list = [300, 400, 500, 600]\n",
        "  l2_reg_list = [0.01, 0.02]\n",
        "  drop_out_value_list = [0.5, 0.8]\n",
        "  # tune for kernal size 2,3,4,5\n",
        "\n",
        "\n",
        "  param_grid = dict(maxlen=maxlen_list, hidden_dims = hidden_dims_list, l2_reg= l2_reg_list, drop_out_value = drop_out_value_list )\n",
        "  grid = GridSearchCV(estimator=model, param_grid=param_grid, n_jobs=-1, cv=FOLDS, verbose = 10 )\n",
        "  grid_result = grid.fit(padded_docs, comment_labels)\n",
        "\n",
        "  # summarize results\n",
        "  print(\"Best: %f using %s\" % (grid_result.best_score_, grid_result.best_params_))\n",
        "  means = grid_result.cv_results_['mean_test_score']\n",
        "  stds = grid_result.cv_results_['std_test_score']\n",
        "  params = grid_result.cv_results_['params']\n",
        "  for mean, stdev, param in zip(means, stds, params):\n",
        "      print(\"%f (%f) with: %r\" % (mean, stdev, param))"
      ],
      "execution_count": null,
      "outputs": []
    },
    {
      "cell_type": "code",
      "metadata": {
        "id": "oHYpTsTDtFIr"
      },
      "source": [
        "# tune_hyperparameters(build_BiLSTM_model)"
      ],
      "execution_count": null,
      "outputs": []
    }
  ]
}